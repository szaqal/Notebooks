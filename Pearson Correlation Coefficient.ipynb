{
 "cells": [
  {
   "cell_type": "code",
   "execution_count": 12,
   "metadata": {},
   "outputs": [],
   "source": [
    "import math"
   ]
  },
  {
   "cell_type": "code",
   "execution_count": 13,
   "metadata": {},
   "outputs": [],
   "source": [
    "def prepare(count, elements):\n",
    "    elems = elements.split()\n",
    "    return [float(elem) for elem in elems]\n",
    "\n",
    "def mean(count, elements):\n",
    "    return sum(elements)/len(elements)\n",
    "\n",
    "def stddev(count, elements):\n",
    "    mean_val = mean(count,elements) \n",
    "    sum_val = sum([(elem - mean_val)**2 for elem in elements])\n",
    "    return math.sqrt(sum_val/count)"
   ]
  },
  {
   "cell_type": "code",
   "execution_count": 42,
   "metadata": {},
   "outputs": [
    {
     "name": "stdout",
     "output_type": "stream",
     "text": [
      "0.612\n"
     ]
    }
   ],
   "source": [
    "count = 10\n",
    "X = \"10 9.8 8 7.8 7.7 7 6 5 4 2\"\n",
    "Y = \"200 44 32 24 22 17 15 12 8 4\"\n",
    "x = prepare(count, X)\n",
    "y = prepare(count, Y)\n",
    "meanX = mean(count,x)\n",
    "meanY = mean(count,y)\n",
    "stddevX = stddev(count, x)\n",
    "stddevY = stddev(count, y)\n",
    "#print(f'{meanX} {meanY}')\n",
    "#print(f'{stddevX} {stddevY}')\n",
    "\n",
    "sum_val =0.0\n",
    "for idx in range(10):\n",
    "    x_val = x[idx]- meanX\n",
    "    y_val = y[idx]- meanY\n",
    "    sum_val +=x_val*y_val\n",
    "    \n",
    "print(round(sum_val/(10*stddevX*stddevY), 3))"
   ]
  }
 ],
 "metadata": {
  "kernelspec": {
   "display_name": "Python 3",
   "language": "python",
   "name": "python3"
  },
  "language_info": {
   "codemirror_mode": {
    "name": "ipython",
    "version": 3
   },
   "file_extension": ".py",
   "mimetype": "text/x-python",
   "name": "python",
   "nbconvert_exporter": "python",
   "pygments_lexer": "ipython3",
   "version": "3.8.4"
  }
 },
 "nbformat": 4,
 "nbformat_minor": 4
}
