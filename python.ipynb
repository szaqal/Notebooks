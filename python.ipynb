{
 "cells": [
  {
   "cell_type": "markdown",
   "metadata": {},
   "source": [
    "### Lists"
   ]
  },
  {
   "cell_type": "code",
   "execution_count": 35,
   "metadata": {},
   "outputs": [
    {
     "name": "stdout",
     "output_type": "stream",
     "text": [
      "[2, 4, 4, 6]\n",
      "2\n",
      "1\n"
     ]
    }
   ],
   "source": [
    "x = [1,2,2,3]\n",
    "y = [i*2 for i in x]\n",
    "print(y)\n",
    "print(x.count(2))\n",
    "print(x.index(2))"
   ]
  },
  {
   "cell_type": "markdown",
   "metadata": {},
   "source": [
    "### Tuples"
   ]
  },
  {
   "cell_type": "code",
   "execution_count": 42,
   "metadata": {},
   "outputs": [
    {
     "name": "stdout",
     "output_type": "stream",
     "text": [
      "[1, 2, 4, 5]\n",
      "[1, 3, 3, 4]\n",
      "[1, 3, 4]\n"
     ]
    }
   ],
   "source": [
    "print(sorted((5,4,2,1)))\n",
    "x=[1,3,3]\n",
    "x.append(4)\n",
    "print(x)\n",
    "del(x[1])\n",
    "print(x)"
   ]
  },
  {
   "cell_type": "markdown",
   "metadata": {},
   "source": [
    "### Dictionaries"
   ]
  },
  {
   "cell_type": "code",
   "execution_count": 44,
   "metadata": {},
   "outputs": [
    {
     "name": "stdout",
     "output_type": "stream",
     "text": [
      "dict_keys(['a'])\n",
      "dict_values([2])\n"
     ]
    }
   ],
   "source": [
    "x={'a':2}\n",
    "x['a']\n",
    "'a' in x\n",
    "print(x.keys())\n",
    "print(x.values())"
   ]
  },
  {
   "cell_type": "markdown",
   "metadata": {},
   "source": [
    "### String manipulation"
   ]
  },
  {
   "cell_type": "code",
   "execution_count": 41,
   "metadata": {},
   "outputs": [
    {
     "name": "stdout",
     "output_type": "stream",
     "text": [
      "ace\n",
      "ac\n",
      "abcdefabcdefabcdef\n",
      "ABCDEF\n",
      "abadef\n"
     ]
    }
   ],
   "source": [
    "x=\"abcdef\"\n",
    "print(x[::2])\n",
    "print(x[0:4:2])\n",
    "print(3*x)\n",
    "print(x.upper())\n",
    "print(x.replace('c','a'))"
   ]
  },
  {
   "cell_type": "markdown",
   "metadata": {},
   "source": [
    "### Sets"
   ]
  },
  {
   "cell_type": "code",
   "execution_count": 38,
   "metadata": {},
   "outputs": [
    {
     "name": "stdout",
     "output_type": "stream",
     "text": [
      "{1, 2, 3}\n",
      "{2}\n",
      "False\n",
      "False\n",
      "True\n"
     ]
    }
   ],
   "source": [
    "x = set()\n",
    "x.add(1)\n",
    "x.add(2)\n",
    "\n",
    "y = set()\n",
    "y.add(2)\n",
    "y.add(3)\n",
    "\n",
    "print(x.union(y))\n",
    "print(x.intersection(y))\n",
    "print(x.issubset(y))\n",
    "print(x.issuperset(y))\n",
    "print(2 in y)\n"
   ]
  },
  {
   "cell_type": "code",
   "execution_count": 43,
   "metadata": {},
   "outputs": [
    {
     "name": "stdout",
     "output_type": "stream",
     "text": [
      "{2, 3}\n"
     ]
    }
   ],
   "source": [
    "x=set((1,2,3))\n",
    "y=set((2,3))\n",
    "2 in x\n",
    "\n",
    "print (x & y)"
   ]
  },
  {
   "cell_type": "markdown",
   "metadata": {},
   "source": [
    "### Lookup Expression"
   ]
  },
  {
   "cell_type": "code",
   "execution_count": 18,
   "metadata": {},
   "outputs": [
    {
     "name": "stdout",
     "output_type": "stream",
     "text": [
      "True\n"
     ]
    }
   ],
   "source": [
    "x = \"abc\"\n",
    "print(\"bc\" in x)"
   ]
  },
  {
   "cell_type": "markdown",
   "metadata": {},
   "source": [
    "### F-strings"
   ]
  },
  {
   "cell_type": "code",
   "execution_count": 23,
   "metadata": {},
   "outputs": [
    {
     "name": "stdout",
     "output_type": "stream",
     "text": [
      "10 < 20\n",
      "200\n",
      "10\n"
     ]
    }
   ],
   "source": [
    "x = 10\n",
    "y = 20\n",
    "print(f'{x} < {y}')\n",
    "print(f'{x*y}')\n",
    "\n",
    "z = {'x': '10'}\n",
    "print(f'{z[\"x\"]}')"
   ]
  },
  {
   "cell_type": "markdown",
   "metadata": {},
   "source": [
    "### Decorators"
   ]
  },
  {
   "cell_type": "code",
   "execution_count": 32,
   "metadata": {},
   "outputs": [
    {
     "name": "stdout",
     "output_type": "stream",
     "text": [
      "x\n",
      "a\n"
     ]
    }
   ],
   "source": [
    "def decorator(func):\n",
    "    def wrapper():\n",
    "        print (\"x\")\n",
    "        func()\n",
    "    return wrapper\n",
    "\n",
    "@decorator\n",
    "def xxx():\n",
    "    print(\"a\")\n",
    "\n",
    "\n",
    "xxx()"
   ]
  },
  {
   "cell_type": "markdown",
   "metadata": {},
   "source": [
    "### Args"
   ]
  },
  {
   "cell_type": "code",
   "execution_count": 39,
   "metadata": {},
   "outputs": [
    {
     "name": "stdout",
     "output_type": "stream",
     "text": [
      "a\n"
     ]
    }
   ],
   "source": [
    "def args(*args):\n",
    "    print(args[0])\n",
    "    \n",
    "args('a',2)"
   ]
  },
  {
   "cell_type": "markdown",
   "metadata": {},
   "source": [
    "### Kwargs"
   ]
  },
  {
   "cell_type": "code",
   "execution_count": 40,
   "metadata": {},
   "outputs": [
    {
     "name": "stdout",
     "output_type": "stream",
     "text": [
      "10\n",
      "{'size': 10}\n"
     ]
    }
   ],
   "source": [
    "def kwargs(**kwargs):\n",
    "    print(kwargs[\"size\"])\n",
    "    print(kwargs)\n",
    "    \n",
    "kwargs(size=10)"
   ]
  },
  {
   "cell_type": "markdown",
   "metadata": {},
   "source": [
    "### Inheritance"
   ]
  },
  {
   "cell_type": "code",
   "execution_count": 49,
   "metadata": {},
   "outputs": [
    {
     "name": "stdout",
     "output_type": "stream",
     "text": [
      "Parent\n",
      "Child\n"
     ]
    }
   ],
   "source": [
    "class Parent():\n",
    "    def hello(self):\n",
    "        print (\"Parent\")\n",
    "    def __init__(self):\n",
    "        pass\n",
    "\n",
    "class Child(Parent):\n",
    "    def hello(self):\n",
    "        print (\"Child\")\n",
    "    def __init__(self):\n",
    "        pass\n",
    "    \n",
    "def Say(parent):\n",
    "    parent.hello()\n",
    "    \n",
    "Say(Parent())\n",
    "Say(Child())"
   ]
  },
  {
   "cell_type": "markdown",
   "metadata": {},
   "source": [
    "### Operator Overload"
   ]
  },
  {
   "cell_type": "code",
   "execution_count": 50,
   "metadata": {},
   "outputs": [
    {
     "data": {
      "text/plain": [
       "30"
      ]
     },
     "execution_count": 50,
     "metadata": {},
     "output_type": "execute_result"
    }
   ],
   "source": [
    "\n",
    "class SomeClass:\n",
    "    def __init__(self, value):\n",
    "        self._value = value\n",
    "    def __add__(self, other):\n",
    "        self._value+=other._value\n",
    "        return self\n",
    "    def value(self):\n",
    "        return self._value\n",
    "\n",
    "x = SomeClass(10)\n",
    "y = SomeClass(20)\n",
    "\n",
    "\n",
    "z = x+y\n",
    "z.value()"
   ]
  },
  {
   "cell_type": "code",
   "execution_count": null,
   "metadata": {},
   "outputs": [],
   "source": []
  }
 ],
 "metadata": {
  "kernelspec": {
   "display_name": "Python 3",
   "language": "python",
   "name": "python3"
  },
  "language_info": {
   "codemirror_mode": {
    "name": "ipython",
    "version": 3
   },
   "file_extension": ".py",
   "mimetype": "text/x-python",
   "name": "python",
   "nbconvert_exporter": "python",
   "pygments_lexer": "ipython3",
   "version": "3.8.4"
  }
 },
 "nbformat": 4,
 "nbformat_minor": 4
}
