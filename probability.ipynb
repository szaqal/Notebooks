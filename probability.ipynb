{
 "cells": [
  {
   "cell_type": "markdown",
   "metadata": {},
   "source": [
    "# Basic probability"
   ]
  },
  {
   "cell_type": "markdown",
   "metadata": {},
   "source": [
    "### Probability of draw 1,2,3 "
   ]
  },
  {
   "cell_type": "code",
   "execution_count": 22,
   "metadata": {},
   "outputs": [
    {
     "name": "stdout",
     "output_type": "stream",
     "text": [
      "P(A)=0.5\n"
     ]
    }
   ],
   "source": [
    "S={1,2,3,4,5,6} #Entire Space\n",
    "A={1,3,5} #Event (A) numbers to draw \n",
    "\n",
    "PA = len(A)/len(S)\n",
    "print(f'P(A)={PA}')"
   ]
  },
  {
   "cell_type": "markdown",
   "metadata": {},
   "source": [
    "## Compound Events"
   ]
  },
  {
   "cell_type": "markdown",
   "metadata": {},
   "source": [
    "#### Collectively Exhaustive Events"
   ]
  },
  {
   "cell_type": "markdown",
   "metadata": {},
   "source": [
    "$$ A \\cup P = S $$\n",
    "$$ P (A \\cup B) = 1$$"
   ]
  },
  {
   "cell_type": "code",
   "execution_count": 76,
   "metadata": {},
   "outputs": [
    {
     "name": "stdout",
     "output_type": "stream",
     "text": [
      "P=1.0\n"
     ]
    }
   ],
   "source": [
    "S = {1,2,3,4,5,6}\n",
    "A = {1,3,5}\n",
    "B = {2,4,6}\n",
    "P = len(set.union(A,B))/len(S)\n",
    "print(f'P={P}')"
   ]
  },
  {
   "cell_type": "markdown",
   "metadata": {},
   "source": [
    "#### OR with disjoint sets"
   ]
  },
  {
   "cell_type": "code",
   "execution_count": 82,
   "metadata": {},
   "outputs": [
    {
     "name": "stdout",
     "output_type": "stream",
     "text": [
      "P(A or B)=0.8\n"
     ]
    }
   ],
   "source": [
    "S = {1,2,3,4,5}\n",
    "A = {1,3}\n",
    "B = {2,4}\n",
    "PA = len(A)/len(S)\n",
    "PB = len(A)/len(S)\n",
    "\n",
    "PAB = PA + PB\n",
    "print(f'P(A or B)={PAB}')\n"
   ]
  },
  {
   "cell_type": "markdown",
   "metadata": {},
   "source": [
    "#### AND with disjoint sets (if event A has no impact on B)"
   ]
  },
  {
   "cell_type": "code",
   "execution_count": 83,
   "metadata": {},
   "outputs": [
    {
     "name": "stdout",
     "output_type": "stream",
     "text": [
      "P(A)=0.2\n"
     ]
    }
   ],
   "source": [
    "S = {1,2,3,4,5}\n",
    "A = {1,2}\n",
    "B = {2,3}\n",
    "PA = len(set.intersection(A,B))/len(S)\n",
    "print(f'P(A)={PA}')"
   ]
  },
  {
   "cell_type": "markdown",
   "metadata": {},
   "source": [
    "\n",
    "#### Mutually exclusive (disjoint)  \n",
    "\n",
    "$$A\\cap B = \\varnothing$$\n",
    "\n",
    "$$P(A\\cap B) ==0 $$ "
   ]
  },
  {
   "cell_type": "code",
   "execution_count": 32,
   "metadata": {},
   "outputs": [
    {
     "name": "stdout",
     "output_type": "stream",
     "text": [
      "P(A)=0.0\n"
     ]
    }
   ],
   "source": [
    "S = {1,2,3,4,5,6}\n",
    "A = {1,3,5}\n",
    "B = {2,4,6}\n",
    "PA = len(set.intersection(A,B))/len(S)\n",
    "print(f'P(A)={PA}')"
   ]
  },
  {
   "cell_type": "markdown",
   "metadata": {},
   "source": [
    "$$P(A\\cap B) ==0 $$ "
   ]
  },
  {
   "cell_type": "code",
   "execution_count": 110,
   "metadata": {},
   "outputs": [
    {
     "name": "stdout",
     "output_type": "stream",
     "text": [
      "P(A)=0.16666666666666666\n"
     ]
    }
   ],
   "source": [
    "S = {1,2,3,4,5,6}\n",
    "A = {1,2,5}\n",
    "B = {2,4,6}\n",
    "PA = len(set.intersection(A,B))/len(S)\n",
    "print(f'P(A)={PA}') #1/6"
   ]
  },
  {
   "cell_type": "markdown",
   "metadata": {},
   "source": [
    "### Conditional probability"
   ]
  },
  {
   "cell_type": "markdown",
   "metadata": {},
   "source": [
    "$$ P(B|A) = P(A and B) / P(A) $$\n"
   ]
  },
  {
   "cell_type": "markdown",
   "metadata": {},
   "source": [
    "#### Independent events"
   ]
  },
  {
   "cell_type": "code",
   "execution_count": 113,
   "metadata": {},
   "outputs": [
    {
     "name": "stdout",
     "output_type": "stream",
     "text": [
      "PB=0.5 PA&B=0.3333333333333333\n",
      "P=0.6666666666666666\n"
     ]
    }
   ],
   "source": [
    "#Wyznacz prawdopodobieństwo wyrzucenia więcej niż trzech oczek, jeśli wiadomo, że wypadła parzysta liczba oczek.\n",
    "S = {1,2,3,4,5,6} # jeden rzut kostką do gry\n",
    "A = {4,5,6} # wyrzucono więcej niż trzy oczka\n",
    "B = {2,4,6} # wyrzucono parzystą liczbę oczek,\n",
    "\n",
    "PB = len(B)/len(S) # 3/6 -> 1/2\n",
    "PAndB = len(set.intersection(A,B))/len(S) #1/3\n",
    "print(f'PB={PB} PA&B={PAndB}')\n",
    "\n",
    "\n",
    "P = PAndB/PA\n",
    "print(f'P={P}')"
   ]
  },
  {
   "cell_type": "markdown",
   "metadata": {},
   "source": [
    "#### Dependent events"
   ]
  },
  {
   "cell_type": "code",
   "execution_count": 136,
   "metadata": {},
   "outputs": [
    {
     "name": "stdout",
     "output_type": "stream",
     "text": [
      "PB=0.5 PA&B=0.2857142857142857\n",
      "P=0.5714285714285714\n"
     ]
    }
   ],
   "source": [
    "#W urnie jest 8 kul: 4 białe i 4 czarne. Wybieramy losowo bez zwracania 2 kule.\n",
    "#Wyznacz prawdopodobieństwo tego, że druga wylosowana kula będzie czarna, \n",
    "#gdy pierwsza wylosowana kula była biała.\n",
    "\n",
    "S = ['B','B','B','B','C','C','C','C']\n",
    "A = {'B'}\n",
    "B = {'C'}\n",
    "\n",
    "PA = S.count('B')/(len(S) -1) #druga wylosowana kula jest czarna (jedna zabrana)\n",
    "PB = S.count('C')/(len(S)) #pierwsza wylosowana kula jest biała\n",
    "\n",
    "PAndB = PA * PB\n",
    "\n",
    "print(f'PB={PB} PA&B={PAndB}')\n",
    "P = PAndB/PB\n",
    "print(f'P={P}')\n"
   ]
  },
  {
   "cell_type": "markdown",
   "metadata": {},
   "source": [
    "### Other"
   ]
  },
  {
   "cell_type": "markdown",
   "metadata": {},
   "source": [
    "#### Coin toss"
   ]
  },
  {
   "cell_type": "code",
   "execution_count": 68,
   "metadata": {},
   "outputs": [
    {
     "name": "stdout",
     "output_type": "stream",
     "text": [
      "S[('T', 'T'), ('T', 'H'), ('H', 'T'), ('H', 'H')]\n",
      "P=0.5\n"
     ]
    }
   ],
   "source": [
    "# tossing 2 coins.\n",
    "import itertools\n",
    "coint_count = 2\n",
    "S = {'H','T'} #head tail coin\n",
    "S1 = list(itertools.product(S, repeat=coint_count)) #2 coins\n",
    "print(f'S{S1}')\n",
    "print(f'P={coint_count/len(S1)}')"
   ]
  },
  {
   "cell_type": "markdown",
   "metadata": {},
   "source": [
    "### Binomial Distribution\n",
    "\n",
    "* p probability of success\n",
    "\n",
    "* q probability of failure\n",
    "\n",
    "* n number of trials\n",
    "\n",
    "* x number of successes\n",
    "\n",
    " $$ b (x,n,p) = \\binom{n}{x} p^x q^{(n-x)}$$\n",
    " \n",
    "* [Scipy](https://docs.scipy.org/doc/scipy/reference/generated/scipy.stats.binom.html)\n",
    "* [Binominal coeeficent](https://en.wikipedia.org/wiki/Binomial_coefficient)"
   ]
  },
  {
   "cell_type": "markdown",
   "metadata": {},
   "source": [
    "### Sample\n",
    "\n",
    "A fair coin is tossed **10** times. Find the following probabilities:\n",
    "\n",
    "Getting **5** heads.\n",
    "\n",
    "Getting at least **5**  heads.\n",
    "\n",
    "Getting at most **5** heads."
   ]
  },
  {
   "cell_type": "code",
   "execution_count": 65,
   "metadata": {},
   "outputs": [
    {
     "name": "stdout",
     "output_type": "stream",
     "text": [
      "Answer 1. 0.24609375\n",
      "Answer 2. 0.623046875\n",
      "Answer 3. 0.623046875\n"
     ]
    }
   ],
   "source": [
    "import math\n",
    "n = 10\n",
    "p = 0.5 #two sides\n",
    "q = 0.5 #two sides\n",
    "\n",
    "x = 5 #(5 heads)\n",
    "\n",
    "binom_coef = math.factorial(n) / (math.factorial(x)*math.factorial(n-x))\n",
    "print(\"Answer 1. {}\".format(binom_coef * p**x * q**(n-x)))\n",
    "\n",
    "\n",
    "result2 = 0.0\n",
    "for idx in range(6):\n",
    "    binom_coef = math.factorial(n) / (math.factorial(idx)*math.factorial(n-idx))\n",
    "    result2 = result2+binom_coef * p**idx * q**(n-idx)\n",
    "    \n",
    "print(\"Answer 2. {}\".format(result2))\n",
    "    \n",
    "\n",
    "\n",
    "result3 = 0.0\n",
    "for idx in range(5, 11):\n",
    "    binom_coef = math.factorial(n) / (math.factorial(idx)*math.factorial(n-idx))\n",
    "    result3 = result3+binom_coef * p**idx * q**(n-idx)\n",
    "    \n",
    "print(\"Answer 3. {}\".format(result3))\n"
   ]
  },
  {
   "cell_type": "markdown",
   "metadata": {},
   "source": [
    "The ratio of boys to girls for babies born in Russia is 1.09:1 . If there is 1 child born per birth, what proportion of Russian families with exactly 6 children will have at least 3 boys?\n"
   ]
  },
  {
   "cell_type": "code",
   "execution_count": 93,
   "metadata": {},
   "outputs": [
    {
     "name": "stdout",
     "output_type": "stream",
     "text": [
      "0.521531100478469 and 0.47846889952153115\n",
      "20.0\n",
      "0.696\n"
     ]
    }
   ],
   "source": [
    "import math\n",
    "#boys to girls\n",
    "ratio_boys = 1.09\n",
    "ratio_girls = 1\n",
    "\n",
    "p = ratio_boys/(ratio_boys+ratio_girls)\n",
    "q = ratio_girls/(ratio_boys+ratio_girls)\n",
    "n = 6\n",
    "x = 3\n",
    "#0.696\n",
    "print(f'{p} and {q}')\n",
    "\n",
    "binom_coef = math.factorial(n) / (math.factorial(x)*math.factorial(n-x))\n",
    "print(binom_coef)\n",
    "\n",
    "result = 0.0\n",
    "for idx in range(3,7):\n",
    "    binom_coef = math.factorial(n) / (math.factorial(idx)*math.factorial(n-idx))\n",
    "    result = result+binom_coef * p**idx * q**(n-idx)\n",
    "    \n",
    "print(\"{:.3f}\".format(result))"
   ]
  },
  {
   "cell_type": "markdown",
   "metadata": {},
   "source": [
    "A manufacturer of metal pistons finds that, on average, 12%  of the pistons they manufacture are rejected because they are incorrectly sized. What is the probability that a batch of 10 pistons will contain:\n",
    "\n",
    "No more than 2 rejects?\n",
    "At least 2 rejects?"
   ]
  },
  {
   "cell_type": "code",
   "execution_count": 92,
   "metadata": {},
   "outputs": [
    {
     "name": "stdout",
     "output_type": "stream",
     "text": [
      "0.891\n",
      "0.342\n"
     ]
    }
   ],
   "source": [
    "import math\n",
    "\n",
    "p = 0.12 # bad ones (success means picking broken one)\n",
    "q = 0.88 #good ones\n",
    "n = 10\n",
    "\n",
    "\n",
    "result = 0.0\n",
    "for idx in range(3):\n",
    "    binom_coef = math.factorial(n) / (math.factorial(idx)*math.factorial(n-idx))\n",
    "    result = result + binom_coef * p**idx * q**(n-idx)\n",
    "print(\"{:.3f}\".format(result))\n",
    "\n",
    "\n",
    "result2 = 0.0\n",
    "for idx in range(2,10):\n",
    "    binom_coef = math.factorial(n) / (math.factorial(idx)*math.factorial(n-idx))\n",
    "    result2 = result2+binom_coef * p**idx * q**(n-idx)\n",
    "print(\"{:.3f}\".format(result2))"
   ]
  },
  {
   "cell_type": "markdown",
   "metadata": {},
   "source": [
    "### Geometric distribution\n",
    "\n",
    "$$ g (n,p) =  q^{(n-x)} p$$"
   ]
  },
  {
   "cell_type": "markdown",
   "metadata": {},
   "source": [
    "Bob is a high school basketball player. He is a **70%** free throw shooter, meaning his probability of making a free throw is **0.7**. What is the probability that Bob makes his first free throw on his **fifth** shot?"
   ]
  },
  {
   "cell_type": "code",
   "execution_count": 16,
   "metadata": {},
   "outputs": [
    {
     "name": "stdout",
     "output_type": "stream",
     "text": [
      "0.006\n"
     ]
    }
   ],
   "source": [
    "n = 5\n",
    "p = 0.7 #successs\n",
    "q = 0.3 #fail\n",
    "print(\"{:.3f}\".format((q**(n-1)*p)))"
   ]
  },
  {
   "cell_type": "markdown",
   "metadata": {},
   "source": [
    "The probability that a machine produces a defective product is **1/3**. What is the probability that the **1st** defect is found during the **5th** inspection?"
   ]
  },
  {
   "cell_type": "code",
   "execution_count": 15,
   "metadata": {},
   "outputs": [
    {
     "name": "stdout",
     "output_type": "stream",
     "text": [
      "0.066\n"
     ]
    }
   ],
   "source": [
    "n = 5\n",
    "p = 1/3\n",
    "q = 1-p\n",
    "print(\"{:.3f}\".format((q**(n-1)*p)))"
   ]
  },
  {
   "cell_type": "markdown",
   "metadata": {},
   "source": [
    "The probability that a machine produces a defective product is **1/3**. What is the probability that the **1st** defect is found during the first **5th** inspections"
   ]
  },
  {
   "cell_type": "code",
   "execution_count": 14,
   "metadata": {},
   "outputs": [
    {
     "name": "stdout",
     "output_type": "stream",
     "text": [
      "0.868\n"
     ]
    }
   ],
   "source": [
    "n = 5\n",
    "p = 1/3\n",
    "q = 1-p\n",
    "\n",
    "result = 0\n",
    "for idx in range(1,6):\n",
    "    result = result+ (q**(n-idx)*p)\n",
    "print(round(result,3))   "
   ]
  },
  {
   "cell_type": "markdown",
   "metadata": {},
   "source": [
    "### Poisson Distribution\n",
    "\n",
    "Poisson Experiment\n",
    "\n",
    "A Poisson experiment is a statistical experiment that has the following properties:\n",
    "\n",
    "\n",
    "* The outcome of each trial is either success or failure.\n",
    "* The average number of successes (lambda) that occurs in a specified region is known.\n",
    "* The probability that a success will occur is proportional to the size of the region.\n",
    "* The probability that a success will occur in an extremely small region is virtually zero.\n",
    "\n",
    "\n",
    "#### Poisson Distribution\n",
    "\n",
    "$$ P(k,\\lambda) = \\lambda^ke^ {- \\lambda} / k!$$\n",
    "\n",
    "* k is **actual number** of successes that occure in specified region\n",
    "\n",
    "* lambda is the **average number** of successes that occur in a specified region.\n",
    "\n"
   ]
  },
  {
   "cell_type": "markdown",
   "metadata": {},
   "source": [
    "Acme Realty company sells an average of **2** homes per day. What is the probability that exactly **5** homes will be sold tomorrow?"
   ]
  },
  {
   "cell_type": "code",
   "execution_count": 17,
   "metadata": {},
   "outputs": [],
   "source": [
    "import math"
   ]
  },
  {
   "cell_type": "code",
   "execution_count": 23,
   "metadata": {},
   "outputs": [
    {
     "name": "stdout",
     "output_type": "stream",
     "text": [
      "0.18\n"
     ]
    }
   ],
   "source": [
    "lmbda = 2\n",
    "k = 3\n",
    "\n",
    "P = (lmbda ** k * math.e ** -lmbda) / math.factorial(k)\n",
    "print(round(P,3))"
   ]
  },
  {
   "cell_type": "markdown",
   "metadata": {},
   "source": [
    "Suppose the average number of lions seen by tourists on a one-day safari is **5**. What is the probability that tourists will see fewer than **4** lions on the next one-day safari?"
   ]
  },
  {
   "cell_type": "code",
   "execution_count": 34,
   "metadata": {},
   "outputs": [
    {
     "name": "stdout",
     "output_type": "stream",
     "text": [
      "0.26502591529736175\n"
     ]
    }
   ],
   "source": [
    "lmbda = 5\n",
    "k = 3\n",
    "sum =0\n",
    "for idx in range(4):\n",
    "    sum = sum+(lmbda ** idx * math.e ** -lmbda) / math.factorial(idx)\n",
    "print(sum)"
   ]
  },
  {
   "cell_type": "markdown",
   "metadata": {},
   "source": [
    "A random variable, X, follows Poisson distribution with mean of 2.5. Find the probability with which the random variable X is equal to 5."
   ]
  },
  {
   "cell_type": "code",
   "execution_count": 47,
   "metadata": {},
   "outputs": [
    {
     "name": "stdout",
     "output_type": "stream",
     "text": [
      "0.067\n"
     ]
    }
   ],
   "source": [
    "lmbda = 2.5\n",
    "k = 5\n",
    "\n",
    "P = (lmbda ** k * math.e ** -lmbda) / math.factorial(k)\n",
    "print(round(P,3))"
   ]
  },
  {
   "cell_type": "markdown",
   "metadata": {},
   "source": [
    "### Normal Distribution"
   ]
  },
  {
   "cell_type": "markdown",
   "metadata": {},
   "source": [
    "In a certain plant, the time taken to assemble a car is a random variable, X, having a normal distribution with a mean of **20** hours and a standard deviation of **2** hours. What is the probability that a car can be assembled at this plant in:\n",
    "\n",
    "* less thatn 19.5\n",
    "\n",
    "* between 20 and 22"
   ]
  },
  {
   "cell_type": "code",
   "execution_count": 56,
   "metadata": {},
   "outputs": [
    {
     "name": "stdout",
     "output_type": "stream",
     "text": [
      "0.401\n",
      "0.341\n"
     ]
    }
   ],
   "source": [
    "mean = 20\n",
    "stddev = 2\n",
    "x = 19.5\n",
    "cdf = lambda x: 0.5 * (1 + math.erf((x - mean) / (stddev * (2 ** 0.5))))\n",
    "print(round(cdf(x),3))\n",
    "\n",
    "x = 22\n",
    "y = 20\n",
    "print(round(cdf(x) - cdf(y),3))"
   ]
  },
  {
   "cell_type": "markdown",
   "metadata": {},
   "source": [
    "### Central Limit Theorem"
   ]
  },
  {
   "cell_type": "markdown",
   "metadata": {},
   "source": [
    "A large elevator can transport a maximum of 9800 pounds. Suppose a load of cargo containing 49 boxes must be transported via the elevator. The box weight of this type of cargo follows a distribution with a mean of u=205 pounds and a standard deviation of 15 pounds. Based on this information, what is the probability that all 49 boxes can be safely loaded into the freight elevator and transported?"
   ]
  },
  {
   "cell_type": "code",
   "execution_count": 61,
   "metadata": {},
   "outputs": [
    {
     "name": "stdout",
     "output_type": "stream",
     "text": [
      "0.0098\n"
     ]
    }
   ],
   "source": [
    "import math\n",
    "\n",
    "x = 9800\n",
    "n = 49\n",
    "mu = 205\n",
    "sigma = 15\n",
    "\n",
    "mu_sum = n * mu \n",
    "sigma_sum = math.sqrt(n) * sigma\n",
    "\n",
    "def cdf(x, mu, sigma):\n",
    "    Z = (x - mu)/sigma\n",
    "    return 0.5*(1 + math.erf(Z/(math.sqrt(2))))\n",
    "\n",
    "print(round(cdf(x, mu_sum, sigma_sum), 4))"
   ]
  },
  {
   "cell_type": "markdown",
   "metadata": {},
   "source": [
    "You have a sample of 100 values from a population with mean 500 and with standard deviation 80. Compute the interval that covers the middle 95% of the distribution of the sample mean; in other words, compute A and B such that P(A<x<B)=0.95. Use the value of z=1.96. Note that z is the z-score."
   ]
  },
  {
   "cell_type": "code",
   "execution_count": 63,
   "metadata": {},
   "outputs": [
    {
     "name": "stdout",
     "output_type": "stream",
     "text": [
      "484.32\n",
      "515.68\n"
     ]
    }
   ],
   "source": [
    "samples = 100\n",
    "mean = 500\n",
    "sd = 80\n",
    "interval = 95\n",
    "z = 1.96\n",
    "\n",
    "sd_sample = sd / (samples**0.5)\n",
    "print(round(mean - sd_sample*z,2))\n",
    "print(round(mean + sd_sample*z,2))"
   ]
  }
 ],
 "metadata": {
  "kernelspec": {
   "display_name": "Python 3",
   "language": "python",
   "name": "python3"
  },
  "language_info": {
   "codemirror_mode": {
    "name": "ipython",
    "version": 3
   },
   "file_extension": ".py",
   "mimetype": "text/x-python",
   "name": "python",
   "nbconvert_exporter": "python",
   "pygments_lexer": "ipython3",
   "version": "3.8.4"
  }
 },
 "nbformat": 4,
 "nbformat_minor": 4
}
