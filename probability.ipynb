{
 "cells": [
  {
   "cell_type": "markdown",
   "metadata": {},
   "source": [
    "# Basic probability"
   ]
  },
  {
   "cell_type": "markdown",
   "metadata": {},
   "source": [
    "### Probability of draw 1,2,3 "
   ]
  },
  {
   "cell_type": "code",
   "execution_count": 22,
   "metadata": {},
   "outputs": [
    {
     "name": "stdout",
     "output_type": "stream",
     "text": [
      "P(A)=0.5\n"
     ]
    }
   ],
   "source": [
    "S={1,2,3,4,5,6} #Entire Space\n",
    "A={1,3,5} #Event (A) numbers to draw \n",
    "\n",
    "PA = len(A)/len(S)\n",
    "print(f'P(A)={PA}')"
   ]
  },
  {
   "cell_type": "markdown",
   "metadata": {},
   "source": [
    "## Compound Events"
   ]
  },
  {
   "cell_type": "markdown",
   "metadata": {},
   "source": [
    "#### Collectively Exhaustive Events"
   ]
  },
  {
   "cell_type": "markdown",
   "metadata": {},
   "source": [
    "$$ A \\cup P = S $$\n",
    "$$ P (A \\cup B) = 1$$"
   ]
  },
  {
   "cell_type": "code",
   "execution_count": 76,
   "metadata": {},
   "outputs": [
    {
     "name": "stdout",
     "output_type": "stream",
     "text": [
      "P=1.0\n"
     ]
    }
   ],
   "source": [
    "S = {1,2,3,4,5,6}\n",
    "A = {1,3,5}\n",
    "B = {2,4,6}\n",
    "P = len(set.union(A,B))/len(S)\n",
    "print(f'P={P}')"
   ]
  },
  {
   "cell_type": "markdown",
   "metadata": {},
   "source": [
    "#### OR with disjoint sets"
   ]
  },
  {
   "cell_type": "code",
   "execution_count": 82,
   "metadata": {},
   "outputs": [
    {
     "name": "stdout",
     "output_type": "stream",
     "text": [
      "P(A or B)=0.8\n"
     ]
    }
   ],
   "source": [
    "S = {1,2,3,4,5}\n",
    "A = {1,3}\n",
    "B = {2,4}\n",
    "PA = len(A)/len(S)\n",
    "PB = len(A)/len(S)\n",
    "\n",
    "PAB = PA + PB\n",
    "print(f'P(A or B)={PAB}')\n"
   ]
  },
  {
   "cell_type": "markdown",
   "metadata": {},
   "source": [
    "#### AND with disjoint sets (if event A has no impact on B)"
   ]
  },
  {
   "cell_type": "code",
   "execution_count": 83,
   "metadata": {},
   "outputs": [
    {
     "name": "stdout",
     "output_type": "stream",
     "text": [
      "P(A)=0.2\n"
     ]
    }
   ],
   "source": [
    "S = {1,2,3,4,5}\n",
    "A = {1,2}\n",
    "B = {2,3}\n",
    "PA = len(set.intersection(A,B))/len(S)\n",
    "print(f'P(A)={PA}')"
   ]
  },
  {
   "cell_type": "markdown",
   "metadata": {},
   "source": [
    "\n",
    "#### Mutually exclusive (disjoint)  \n",
    "\n",
    "$$A\\cap B = \\varnothing$$\n",
    "\n",
    "$$P(A\\cap B) ==0 $$ "
   ]
  },
  {
   "cell_type": "code",
   "execution_count": 32,
   "metadata": {},
   "outputs": [
    {
     "name": "stdout",
     "output_type": "stream",
     "text": [
      "P(A)=0.0\n"
     ]
    }
   ],
   "source": [
    "S = {1,2,3,4,5,6}\n",
    "A = {1,3,5}\n",
    "B = {2,4,6}\n",
    "PA = len(set.intersection(A,B))/len(S)\n",
    "print(f'P(A)={PA}')"
   ]
  },
  {
   "cell_type": "markdown",
   "metadata": {},
   "source": [
    "$$P(A\\cap B) ==0 $$ "
   ]
  },
  {
   "cell_type": "code",
   "execution_count": 110,
   "metadata": {},
   "outputs": [
    {
     "name": "stdout",
     "output_type": "stream",
     "text": [
      "P(A)=0.16666666666666666\n"
     ]
    }
   ],
   "source": [
    "S = {1,2,3,4,5,6}\n",
    "A = {1,2,5}\n",
    "B = {2,4,6}\n",
    "PA = len(set.intersection(A,B))/len(S)\n",
    "print(f'P(A)={PA}') #1/6"
   ]
  },
  {
   "cell_type": "markdown",
   "metadata": {},
   "source": [
    "### Conditional probability"
   ]
  },
  {
   "cell_type": "markdown",
   "metadata": {},
   "source": [
    "$$ P(B|A) = P(A and B) / P(A) $$\n"
   ]
  },
  {
   "cell_type": "markdown",
   "metadata": {},
   "source": [
    "#### Independent events"
   ]
  },
  {
   "cell_type": "code",
   "execution_count": 113,
   "metadata": {},
   "outputs": [
    {
     "name": "stdout",
     "output_type": "stream",
     "text": [
      "PB=0.5 PA&B=0.3333333333333333\n",
      "P=0.6666666666666666\n"
     ]
    }
   ],
   "source": [
    "#Wyznacz prawdopodobieństwo wyrzucenia więcej niż trzech oczek, jeśli wiadomo, że wypadła parzysta liczba oczek.\n",
    "S = {1,2,3,4,5,6} # jeden rzut kostką do gry\n",
    "A = {4,5,6} # wyrzucono więcej niż trzy oczka\n",
    "B = {2,4,6} # wyrzucono parzystą liczbę oczek,\n",
    "\n",
    "PB = len(B)/len(S) # 3/6 -> 1/2\n",
    "PAndB = len(set.intersection(A,B))/len(S) #1/3\n",
    "print(f'PB={PB} PA&B={PAndB}')\n",
    "\n",
    "\n",
    "P = PAndB/PA\n",
    "print(f'P={P}')"
   ]
  },
  {
   "cell_type": "markdown",
   "metadata": {},
   "source": [
    "#### Dependent events"
   ]
  },
  {
   "cell_type": "code",
   "execution_count": 136,
   "metadata": {},
   "outputs": [
    {
     "name": "stdout",
     "output_type": "stream",
     "text": [
      "PB=0.5 PA&B=0.2857142857142857\n",
      "P=0.5714285714285714\n"
     ]
    }
   ],
   "source": [
    "#W urnie jest 8 kul: 4 białe i 4 czarne. Wybieramy losowo bez zwracania 2 kule.\n",
    "#Wyznacz prawdopodobieństwo tego, że druga wylosowana kula będzie czarna, \n",
    "#gdy pierwsza wylosowana kula była biała.\n",
    "\n",
    "S = ['B','B','B','B','C','C','C','C']\n",
    "A = {'B'}\n",
    "B = {'C'}\n",
    "\n",
    "PA = S.count('B')/(len(S) -1) #druga wylosowana kula jest czarna (jedna zabrana)\n",
    "PB = S.count('C')/(len(S)) #pierwsza wylosowana kula jest biała\n",
    "\n",
    "PAndB = PA * PB\n",
    "\n",
    "print(f'PB={PB} PA&B={PAndB}')\n",
    "P = PAndB/PB\n",
    "print(f'P={P}')\n"
   ]
  },
  {
   "cell_type": "markdown",
   "metadata": {},
   "source": [
    "### Other"
   ]
  },
  {
   "cell_type": "markdown",
   "metadata": {},
   "source": [
    "#### Coin toss"
   ]
  },
  {
   "cell_type": "code",
   "execution_count": 68,
   "metadata": {},
   "outputs": [
    {
     "name": "stdout",
     "output_type": "stream",
     "text": [
      "S[('T', 'T'), ('T', 'H'), ('H', 'T'), ('H', 'H')]\n",
      "P=0.5\n"
     ]
    }
   ],
   "source": [
    "# tossing 2 coins.\n",
    "import itertools\n",
    "coint_count = 2\n",
    "S = {'H','T'} #head tail coin\n",
    "S1 = list(itertools.product(S, repeat=coint_count)) #2 coins\n",
    "print(f'S{S1}')\n",
    "print(f'P={coint_count/len(S1)}')"
   ]
  }
 ],
 "metadata": {
  "kernelspec": {
   "display_name": "Python 3",
   "language": "python",
   "name": "python3"
  },
  "language_info": {
   "codemirror_mode": {
    "name": "ipython",
    "version": 3
   },
   "file_extension": ".py",
   "mimetype": "text/x-python",
   "name": "python",
   "nbconvert_exporter": "python",
   "pygments_lexer": "ipython3",
   "version": "3.8.4"
  }
 },
 "nbformat": 4,
 "nbformat_minor": 4
}
