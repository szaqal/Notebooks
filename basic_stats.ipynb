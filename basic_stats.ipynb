{
 "cells": [
  {
   "cell_type": "code",
   "execution_count": 100,
   "metadata": {},
   "outputs": [],
   "source": [
    "import numpy as np"
   ]
  },
  {
   "cell_type": "markdown",
   "metadata": {},
   "source": [
    "### Base statistics functions\n",
    "\n",
    "* [Mean](https://en.wikipedia.org/wiki/Mean)\n",
    "\n",
    "* [Average](https://en.wikipedia.org/wiki/Average)\n",
    "\n",
    "* [Median](https://www.mathsisfun.com/median.html)\n",
    "\n",
    "* [Variance](https://www.mathsisfun.com/data/standard-deviation.html)"
   ]
  },
  {
   "cell_type": "markdown",
   "metadata": {},
   "source": [
    "### Mean\n",
    "\n",
    "\n",
    "$$ \\mu = \\frac{\\sum\\limits_{i=1}^n X_{i}}{N} $$"
   ]
  },
  {
   "cell_type": "code",
   "execution_count": 9,
   "metadata": {},
   "outputs": [
    {
     "name": "stdout",
     "output_type": "stream",
     "text": [
      "Mean:4.0\n"
     ]
    }
   ],
   "source": [
    "def mean(elements):\n",
    "    return sum([elem for elem in elements])/len(elements)\n",
    "    \n",
    "print(f'Mean:{mean([2,4,5,5])}')"
   ]
  },
  {
   "cell_type": "markdown",
   "metadata": {},
   "source": [
    "### Variance \n",
    "\n",
    "\n",
    "$$ S^2 = \\frac{\\sum\\limits_{i=1}^n (X_{i} - \\mu)^2 }{N} $$\n",
    "\n",
    "\n",
    "Describes the variability or spread of a distribution"
   ]
  },
  {
   "cell_type": "code",
   "execution_count": 14,
   "metadata": {},
   "outputs": [
    {
     "name": "stdout",
     "output_type": "stream",
     "text": [
      "Variance:1.5\n"
     ]
    }
   ],
   "source": [
    "def variance(elements):\n",
    "    mean_val = mean(elements)\n",
    "    return sum([(elem - mean_val)**2  for elem in elements])/len(elements)\n",
    "\n",
    "print(f'Variance:{variance([2,4,5,5])}')"
   ]
  },
  {
   "cell_type": "markdown",
   "metadata": {},
   "source": [
    "### Numpy"
   ]
  },
  {
   "cell_type": "code",
   "execution_count": 146,
   "metadata": {},
   "outputs": [
    {
     "name": "stdout",
     "output_type": "stream",
     "text": [
      "Mean: 4.0\n",
      "Avg: 4.0\n",
      "Max: 5\n",
      "Min: 2\n",
      "Median: 4.5\n",
      "Variance: 1.5\n",
      "Percentile: 4.5\n"
     ]
    }
   ],
   "source": [
    "x = np.array([2,4,5,5])\n",
    "print(\"Mean: {}\".format(np.mean(x)))\n",
    "print(\"Avg: {}\".format(np.average(x)))\n",
    "print(\"Max: {}\".format(np.max(x)))\n",
    "print(\"Min: {}\".format(np.min(x)))\n",
    "print(\"Median: {}\".format(np.median(x)))\n",
    "print(\"Variance: {}\".format(np.var(x)))\n",
    "print(\"Percentile: {}\".format(np.percentile(x,50)))"
   ]
  },
  {
   "cell_type": "markdown",
   "metadata": {},
   "source": [
    "50 Percentile = median"
   ]
  }
 ],
 "metadata": {
  "kernelspec": {
   "display_name": "Python 3",
   "language": "python",
   "name": "python3"
  },
  "language_info": {
   "codemirror_mode": {
    "name": "ipython",
    "version": 3
   },
   "file_extension": ".py",
   "mimetype": "text/x-python",
   "name": "python",
   "nbconvert_exporter": "python",
   "pygments_lexer": "ipython3",
   "version": "3.8.4"
  }
 },
 "nbformat": 4,
 "nbformat_minor": 4
}
