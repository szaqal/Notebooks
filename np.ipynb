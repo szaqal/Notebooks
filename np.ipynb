{
 "cells": [
  {
   "cell_type": "code",
   "execution_count": 100,
   "metadata": {},
   "outputs": [],
   "source": [
    "import numpy as np\n",
    "from numpy.linalg import inv"
   ]
  },
  {
   "cell_type": "markdown",
   "metadata": {},
   "source": [
    "### Declaring"
   ]
  },
  {
   "cell_type": "code",
   "execution_count": 143,
   "metadata": {},
   "outputs": [
    {
     "name": "stdout",
     "output_type": "stream",
     "text": [
      "Type:<class 'numpy.ndarray'>\n",
      "Type of elements:int32\n"
     ]
    }
   ],
   "source": [
    "x = np.array([1,2,3], np.int32)\n",
    "print(f'Type:{type(x)}')\n",
    "print(f'Type of elements:{x.dtype}')"
   ]
  },
  {
   "cell_type": "code",
   "execution_count": 142,
   "metadata": {},
   "outputs": [
    {
     "name": "stdout",
     "output_type": "stream",
     "text": [
      "[0 0 0 0 0]\n",
      "[[0 0]\n",
      " [0 0]]\n"
     ]
    }
   ],
   "source": [
    "print(np.zeros(5, dtype='int16'))\n",
    "print(np.zeros((2,2), dtype='int16'))"
   ]
  },
  {
   "cell_type": "markdown",
   "metadata": {},
   "source": [
    "#### NDArrray"
   ]
  },
  {
   "cell_type": "code",
   "execution_count": 180,
   "metadata": {},
   "outputs": [
    {
     "name": "stdout",
     "output_type": "stream",
     "text": [
      "X:[[1 2 3 4]]\n",
      "shape(x):(1, 4)\n",
      "x22:[[1 2]\n",
      " [3 4]]\n",
      "x41:[[1]\n",
      " [2]\n",
      " [3]\n",
      " [4]]\n",
      "x14:[[1 2 3 4]]\n"
     ]
    }
   ],
   "source": [
    "x = np.array([[1,2,3,4]])\n",
    "print(f'X:{x}')\n",
    "print(f'shape(x):{np.shape(x)}')\n",
    "\n",
    "x22 = np.ndarray(shape = (2,2), dtype='int', buffer=x)\n",
    "print(f'x22:{x22}')\n",
    "\n",
    "x41 = np.ndarray(shape = (4,1), dtype='int', buffer=x)\n",
    "print(f'x41:{x41}')\n",
    "\n",
    "x14 = np.ndarray(shape = (1,4), dtype='int', buffer=x)\n",
    "print(f'x14:{x14}')"
   ]
  },
  {
   "cell_type": "markdown",
   "metadata": {},
   "source": [
    "### Slicing"
   ]
  },
  {
   "cell_type": "code",
   "execution_count": 43,
   "metadata": {},
   "outputs": [
    {
     "name": "stdout",
     "output_type": "stream",
     "text": [
      "[5 6 7 8]\n",
      "[7 8]\n"
     ]
    }
   ],
   "source": [
    "x = np.array([[1,2,3,4],[5,6,7,8]])\n",
    "print(x[1,])\n",
    "print(x[1,2:4])"
   ]
  },
  {
   "cell_type": "markdown",
   "metadata": {},
   "source": [
    "### Broadcasting \n",
    "\n",
    "Broadcasting takes array inputs and produces array outputs by performing the core function element-wise on the input np"
   ]
  },
  {
   "cell_type": "code",
   "execution_count": 14,
   "metadata": {},
   "outputs": [
    {
     "name": "stdout",
     "output_type": "stream",
     "text": [
      "Multipled:[ 2  4  6  8 10]\n",
      "Added:[3 4 5 6 7]\n"
     ]
    }
   ],
   "source": [
    "x = np.array([1,2,3,4,5])\n",
    "print(f'Multipled:{x * 2}')\n",
    "print(f'Added:{x + 2}')"
   ]
  },
  {
   "cell_type": "markdown",
   "metadata": {},
   "source": [
    "#### Add"
   ]
  },
  {
   "cell_type": "code",
   "execution_count": 19,
   "metadata": {},
   "outputs": [
    {
     "data": {
      "text/plain": [
       "array([3, 4, 5, 6, 7])"
      ]
     },
     "execution_count": 19,
     "metadata": {},
     "output_type": "execute_result"
    }
   ],
   "source": [
    "x = np.array([2,2,2,2,2])\n",
    "y = np.array([1,2,3,4,5])\n",
    "np.add(x,y) #x+y"
   ]
  },
  {
   "cell_type": "markdown",
   "metadata": {},
   "source": [
    "#### Multiply"
   ]
  },
  {
   "cell_type": "code",
   "execution_count": 169,
   "metadata": {},
   "outputs": [
    {
     "data": {
      "text/plain": [
       "array([ 2,  4,  6,  8, 10])"
      ]
     },
     "execution_count": 169,
     "metadata": {},
     "output_type": "execute_result"
    }
   ],
   "source": [
    "x = np.array([2,2,2,2,2])\n",
    "y = np.array([1,2,3,4,5])\n",
    "np.multiply(x,y) #x*y"
   ]
  },
  {
   "cell_type": "markdown",
   "metadata": {},
   "source": [
    "#### Operations"
   ]
  },
  {
   "cell_type": "code",
   "execution_count": 187,
   "metadata": {},
   "outputs": [
    {
     "name": "stdout",
     "output_type": "stream",
     "text": [
      "sum:20\n",
      "max:4\n",
      "log2:[2. 2. 2. 2. 2.]\n",
      "log10:[2. 3. 4. 5. 6.]\n"
     ]
    }
   ],
   "source": [
    "x = np.array([4,4,4,4,4])\n",
    "print(f'sum:{np.sum(x)}')\n",
    "print(f'max:{np.max(x)}')\n",
    "print(f'log2:{np.log2(x)}')\n",
    "x = np.array([100,1000,10000,100000,1000000])\n",
    "print(f'log10:{np.log10(x)}')"
   ]
  },
  {
   "cell_type": "code",
   "execution_count": 207,
   "metadata": {},
   "outputs": [
    {
     "name": "stdout",
     "output_type": "stream",
     "text": [
      "x:[[1 2]\n",
      " [3 4]]\n",
      "max axis1:[3 4]\n",
      "max axis2:[2 4]\n",
      "sum axis1:[4 6]\n",
      "sum axis2:[3 7]\n"
     ]
    }
   ],
   "source": [
    "x = np.array([[1,2],[3,4]])\n",
    "print(f'x:{x}')\n",
    "print(f'max axis1:{x.max(0)}')\n",
    "print(f'max axis2:{x.max(1)}')\n",
    "print(f'sum axis1:{x.sum(0)}')\n",
    "print(f'sum axis2:{x.sum(1)}')"
   ]
  },
  {
   "cell_type": "code",
   "execution_count": 201,
   "metadata": {},
   "outputs": [
    {
     "name": "stdout",
     "output_type": "stream",
     "text": [
      "shape(x):(3, 2)\n",
      "flatten(x):[1 2 3 4 5 6]\n"
     ]
    }
   ],
   "source": [
    "x = np.array([[1,2],[3,4],[5,6]])\n",
    "print(f'shape(x):{np.shape(x)}')\n",
    "print(f'flatten(x):{x.flatten()}')"
   ]
  },
  {
   "cell_type": "markdown",
   "metadata": {},
   "source": [
    "#### Transpose"
   ]
  },
  {
   "cell_type": "code",
   "execution_count": 240,
   "metadata": {},
   "outputs": [
    {
     "name": "stdout",
     "output_type": "stream",
     "text": [
      "A:[[0 1 2]\n",
      " [3 4 5]\n",
      " [6 7 8]]\n",
      "\n",
      "At:[[0 3 6]\n",
      " [1 4 7]\n",
      " [2 5 8]]\n"
     ]
    }
   ],
   "source": [
    "A = np.arange(9).reshape(3,3)\n",
    "\n",
    "print(\"A:{}\".format(A))\n",
    "print(\"\\nAt:{}\".format(np.transpose(A)))\n"
   ]
  },
  {
   "cell_type": "code",
   "execution_count": 213,
   "metadata": {},
   "outputs": [
    {
     "name": "stdout",
     "output_type": "stream",
     "text": [
      "[[0]\n",
      " [1]\n",
      " [2]\n",
      " [3]\n",
      " [4]\n",
      " [5]]\n"
     ]
    }
   ],
   "source": [
    "A = np.arange(6).reshape(1,6)\n",
    "print(np.transpose(A))"
   ]
  },
  {
   "cell_type": "markdown",
   "metadata": {},
   "source": [
    "#### Matrix multiplication"
   ]
  },
  {
   "cell_type": "code",
   "execution_count": 220,
   "metadata": {},
   "outputs": [
    {
     "name": "stdout",
     "output_type": "stream",
     "text": [
      "A: [[1 2 1]]\n",
      "B: [[2]\n",
      " [2]\n",
      " [2]]\n",
      "\n",
      "AB: [[8]]\n"
     ]
    }
   ],
   "source": [
    "A = np.array([1,2,1]).reshape(1,3)\n",
    "print(\"A: {}\".format(A))\n",
    "B = np.array([2,2,2]).reshape(3,1)\n",
    "print(\"B: {}\".format(B))\n",
    "\n",
    "AB = np.matmul(A,B)\n",
    "print(\"\\nAB: {}\".format(AB))"
   ]
  },
  {
   "cell_type": "markdown",
   "metadata": {},
   "source": [
    "#### Matrix inverse"
   ]
  },
  {
   "cell_type": "code",
   "execution_count": 230,
   "metadata": {},
   "outputs": [
    {
     "name": "stdout",
     "output_type": "stream",
     "text": [
      "A: [[3 2]\n",
      " [2 2]]\n",
      "A-1:[[ 1.  -1. ]\n",
      " [-1.   1.5]]\n"
     ]
    }
   ],
   "source": [
    "A = np.array([3,2,2,2]).reshape(2,2)\n",
    "print(\"A: {}\".format(A))\n",
    "print(\"A-1:{}\".format(inv(A)))"
   ]
  },
  {
   "cell_type": "markdown",
   "metadata": {},
   "source": [
    "#### Dot product\n",
    "\n",
    "[Dot product](https://en.wikipedia.org/wiki/Dot_product)\n",
    "\n",
    "* a1*b1+a2*b2+a3*b3"
   ]
  },
  {
   "cell_type": "code",
   "execution_count": 222,
   "metadata": {},
   "outputs": [
    {
     "name": "stdout",
     "output_type": "stream",
     "text": [
      "3\n"
     ]
    }
   ],
   "source": [
    "A = np.array([1,1,1])\n",
    "B = np.array([1,1,1])\n",
    "print(np.dot(A,B))"
   ]
  },
  {
   "cell_type": "markdown",
   "metadata": {},
   "source": [
    "#### Max with axis"
   ]
  },
  {
   "cell_type": "code",
   "execution_count": 198,
   "metadata": {},
   "outputs": [
    {
     "name": "stdout",
     "output_type": "stream",
     "text": [
      "4\n",
      "[2 4]\n",
      "[3 4]\n",
      "[5 6 7 8]\n"
     ]
    }
   ],
   "source": [
    "x = np.array([[1,2],[3,4]])\n",
    "print(np.max(x))\n",
    "print(np.max(x, axis=1))\n",
    "print(np.max(x, axis=0))\n",
    "\n",
    "\n",
    "x = np.array([1,2,3,4])\n",
    "y = np.array([5,6,7,8])\n",
    "print(np.maximum(x,y))"
   ]
  },
  {
   "cell_type": "code",
   "execution_count": 174,
   "metadata": {},
   "outputs": [
    {
     "name": "stdout",
     "output_type": "stream",
     "text": [
      "[[1. 0. 0. 0. 0.]\n",
      " [0. 1. 0. 0. 0.]\n",
      " [0. 0. 1. 0. 0.]\n",
      " [0. 0. 0. 1. 0.]\n",
      " [0. 0. 0. 0. 1.]]\n",
      "(5, 5)\n"
     ]
    }
   ],
   "source": [
    "x = np.eye(5)\n",
    "print(x)\n",
    "print(x.shape)"
   ]
  },
  {
   "cell_type": "markdown",
   "metadata": {},
   "source": [
    "#### Full like"
   ]
  },
  {
   "cell_type": "code",
   "execution_count": 175,
   "metadata": {},
   "outputs": [
    {
     "data": {
      "text/plain": [
       "array([[10, 10, 10, 10, 10],\n",
       "       [10, 10, 10, 10, 10],\n",
       "       [10, 10, 10, 10, 10],\n",
       "       [10, 10, 10, 10, 10],\n",
       "       [10, 10, 10, 10, 10]], dtype=int16)"
      ]
     },
     "execution_count": 175,
     "metadata": {},
     "output_type": "execute_result"
    }
   ],
   "source": [
    "np.full_like(x, 10, dtype='int16')"
   ]
  },
  {
   "cell_type": "markdown",
   "metadata": {},
   "source": [
    "#### Linspace\n",
    "\n",
    "[Docs](https://numpy.org/doc/stable/reference/generated/numpy.linspace.html)"
   ]
  },
  {
   "cell_type": "code",
   "execution_count": 177,
   "metadata": {},
   "outputs": [
    {
     "data": {
      "text/plain": [
       "array([ 1.  ,  3.25,  5.5 ,  7.75, 10.  ])"
      ]
     },
     "execution_count": 177,
     "metadata": {},
     "output_type": "execute_result"
    }
   ],
   "source": [
    "np.linspace(1.0,10.0,num=5)"
   ]
  },
  {
   "cell_type": "markdown",
   "metadata": {},
   "source": [
    "#### Logspace\n",
    "\n",
    "[Docs](https://numpy.org/doc/stable/reference/generated/numpy.logspace.html)"
   ]
  },
  {
   "cell_type": "code",
   "execution_count": 178,
   "metadata": {},
   "outputs": [
    {
     "data": {
      "text/plain": [
       "array([1.e+01, 1.e+02, 1.e+03, 1.e+04, 1.e+05, 1.e+06, 1.e+07, 1.e+08,\n",
       "       1.e+09, 1.e+10])"
      ]
     },
     "execution_count": 178,
     "metadata": {},
     "output_type": "execute_result"
    }
   ],
   "source": [
    "np.logspace(1.0,10.0,num=10)"
   ]
  },
  {
   "cell_type": "code",
   "execution_count": 210,
   "metadata": {},
   "outputs": [
    {
     "name": "stdout",
     "output_type": "stream",
     "text": [
      "[[0.19438903 0.46215365 0.6502499 ]\n",
      " [0.67098983 0.14950162 0.55081363]\n",
      " [0.26416565 0.64040967 0.00236754]]\n"
     ]
    }
   ],
   "source": [
    "print(np.random.random((3,3)))"
   ]
  },
  {
   "cell_type": "markdown",
   "metadata": {},
   "source": [
    "#### Filtering/Spacing etc..."
   ]
  },
  {
   "cell_type": "code",
   "execution_count": 233,
   "metadata": {},
   "outputs": [
    {
     "name": "stdout",
     "output_type": "stream",
     "text": [
      "[2]\n",
      "3\n",
      "True\n",
      "False\n",
      "[1 1 2 2 3 3 4 4]\n",
      "[[1 0 0 0]\n",
      " [0 2 0 0]\n",
      " [0 0 3 0]\n",
      " [0 0 0 4]]\n",
      "[ True  True False False]\n"
     ]
    }
   ],
   "source": [
    "x = np.array([1,2,3,4])\n",
    "print(x[1:2])\n",
    "print(x[-2])\n",
    "print(np.any(x>3))\n",
    "print(np.all(x>3))\n",
    "print(np.repeat(x,2))\n",
    "print(np.diag(x))\n",
    "print(x<=2)"
   ]
  },
  {
   "cell_type": "code",
   "execution_count": 181,
   "metadata": {},
   "outputs": [
    {
     "data": {
      "text/plain": [
       "array([2, 2])"
      ]
     },
     "execution_count": 181,
     "metadata": {},
     "output_type": "execute_result"
    }
   ],
   "source": [
    "x = np.array([[1,2],[1,2]])\n",
    "x[:,1]"
   ]
  },
  {
   "cell_type": "markdown",
   "metadata": {},
   "source": [
    "#### Random initialization"
   ]
  },
  {
   "cell_type": "code",
   "execution_count": 182,
   "metadata": {},
   "outputs": [
    {
     "data": {
      "text/plain": [
       "array([[0.77132712, 0.47370336, 0.57822169],\n",
       "       [0.8052923 , 0.04369623, 0.96336317],\n",
       "       [0.74995623, 0.72464096, 0.52329688]])"
      ]
     },
     "execution_count": 182,
     "metadata": {},
     "output_type": "execute_result"
    }
   ],
   "source": [
    "np.random.rand(3,3)"
   ]
  },
  {
   "cell_type": "code",
   "execution_count": 183,
   "metadata": {},
   "outputs": [
    {
     "data": {
      "text/plain": [
       "array([[4, 4, 5],\n",
       "       [4, 5, 5],\n",
       "       [4, 4, 4]])"
      ]
     },
     "execution_count": 183,
     "metadata": {},
     "output_type": "execute_result"
    }
   ],
   "source": [
    "np.random.randint(3,6,size=(3,3))"
   ]
  },
  {
   "cell_type": "code",
   "execution_count": 184,
   "metadata": {},
   "outputs": [
    {
     "data": {
      "text/plain": [
       "array([0.        , 0.8509035 , 0.89399666], dtype=float32)"
      ]
     },
     "execution_count": 184,
     "metadata": {},
     "output_type": "execute_result"
    }
   ],
   "source": [
    "x =np.array([0,45,90], dtype='int16')\n",
    "np.sin(x)"
   ]
  },
  {
   "cell_type": "markdown",
   "metadata": {},
   "source": [
    "#### Reshape"
   ]
  },
  {
   "cell_type": "code",
   "execution_count": 185,
   "metadata": {},
   "outputs": [
    {
     "name": "stdout",
     "output_type": "stream",
     "text": [
      "[[1 2]\n",
      " [3 4]]\n",
      "[[1 2 3 4]]\n",
      "[[1]\n",
      " [2]\n",
      " [3]\n",
      " [4]]\n"
     ]
    }
   ],
   "source": [
    "x = np.array([[1,2],[3,4]])\n",
    "print(x)\n",
    "print(x.reshape(1,4))\n",
    "print(x.reshape(4,1))"
   ]
  },
  {
   "cell_type": "markdown",
   "metadata": {},
   "source": [
    "#### Stacking"
   ]
  },
  {
   "cell_type": "code",
   "execution_count": 205,
   "metadata": {},
   "outputs": [
    {
     "name": "stdout",
     "output_type": "stream",
     "text": [
      "[[1 2]\n",
      " [3 4]]\n",
      "\n",
      "\n",
      "[1 2 3 4]\n"
     ]
    }
   ],
   "source": [
    "x = np.array([1,2])\n",
    "y = np.array([3,4])\n",
    "print(np.vstack([x,y]))\n",
    "\n",
    "x = np.array([1,2])\n",
    "y = np.array([3,4])\n",
    "print(np.hstack([x,y]))"
   ]
  },
  {
   "cell_type": "markdown",
   "metadata": {},
   "source": [
    "#### Dimensionality"
   ]
  },
  {
   "cell_type": "code",
   "execution_count": 208,
   "metadata": {},
   "outputs": [
    {
     "name": "stdout",
     "output_type": "stream",
     "text": [
      "1\n",
      "2\n"
     ]
    }
   ],
   "source": [
    "a=np.array([1,2,3])\n",
    "print(a.ndim)\n",
    "\n",
    "A=np.array([[1,2],[3,4],[5,6],[7,8]])\n",
    "print(A.ndim)"
   ]
  }
 ],
 "metadata": {
  "kernelspec": {
   "display_name": "Python 3",
   "language": "python",
   "name": "python3"
  },
  "language_info": {
   "codemirror_mode": {
    "name": "ipython",
    "version": 3
   },
   "file_extension": ".py",
   "mimetype": "text/x-python",
   "name": "python",
   "nbconvert_exporter": "python",
   "pygments_lexer": "ipython3",
   "version": "3.8.4"
  }
 },
 "nbformat": 4,
 "nbformat_minor": 4
}
