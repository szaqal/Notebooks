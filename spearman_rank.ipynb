{
 "cells": [
  {
   "cell_type": "code",
   "execution_count": 18,
   "metadata": {},
   "outputs": [],
   "source": [
    "def prepare(count, elements):\n",
    "    elems = elements.split()\n",
    "    return [float(elem) for elem in elems]\n",
    "\n"
   ]
  },
  {
   "cell_type": "code",
   "execution_count": 19,
   "metadata": {},
   "outputs": [
    {
     "name": "stdout",
     "output_type": "stream",
     "text": [
      "0.903\n"
     ]
    }
   ],
   "source": [
    "n = 10\n",
    "X = \"10 9.8 8 7.8 7.7 1.7 6 5 1.4 2\"\n",
    "Y = \"200 44 32 24 22 17 15 12 8 4\"\n",
    "\n",
    "x = prepare(count, X)\n",
    "y = prepare(count, Y)\n",
    "\n",
    "rx = [sorted(x).index(i) for i in x]\n",
    "ry = [sorted(y).index(i) for i in y]\n",
    "\n",
    "rxy =1-(sum([(rx[i]-ry[i])**2 for i in range(n)])*6/(n*(n**2-1)))\n",
    "print(round(rxy,3))"
   ]
  }
 ],
 "metadata": {
  "kernelspec": {
   "display_name": "Python 3",
   "language": "python",
   "name": "python3"
  },
  "language_info": {
   "codemirror_mode": {
    "name": "ipython",
    "version": 3
   },
   "file_extension": ".py",
   "mimetype": "text/x-python",
   "name": "python",
   "nbconvert_exporter": "python",
   "pygments_lexer": "ipython3",
   "version": "3.8.4"
  }
 },
 "nbformat": 4,
 "nbformat_minor": 4
}
